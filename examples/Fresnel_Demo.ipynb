# %% [markdown]
# # Fresnel Integral Tutorial
# ## Step 1: Import the Curvometry Script
from scripts.fresnel import calculate_fresnel

# ## Step 2: Compute the Integral
result, error = calculate_fresnel()
print(f"Result: {result:.5f} ± {error:.5f}")

# ## Step 3: Visualize the Oscillatory Behavior
import matplotlib.pyplot as plt
x = np.linspace(0, 10, 1000)
plt.plot(x, np.sin(x**2), color='red')
plt.title("Fresnel Integral Integrand: sin(x²)")
plt.xlabel("x")
plt.show()
