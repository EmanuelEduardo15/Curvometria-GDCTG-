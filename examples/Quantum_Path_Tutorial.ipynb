# %% [markdown]
# # Quantum Path Integral Tutorial
# ## Step 1: Simulate Quantum Paths
from scripts.quantum_path import quantum_path_simulation
import numpy as np

result = quantum_path_simulation(num_paths=500)
print(f"Result: {result.real:.5f} + {result.imag:.5f}j")

# ## Step 2: Histogram of Path Actions
paths = np.random.normal(size=(500, 1000))
S = np.sum((np.diff(paths, axis=1)**2) / 0.002, axis=1)
plt.hist(S, bins=50, density=True)
plt.title("Action Distribution")
plt.xlabel("S")
plt.ylabel("Frequency")
plt.show()
