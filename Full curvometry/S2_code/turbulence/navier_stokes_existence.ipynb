{
 "cells": [
  {
   "cell_type": "markdown",
   "metadata": {},
   "source": [
    "# Simulação com Curvometria aplicada às Equações de Navier-Stokes\n",
    "Este notebook demonstra a existência de soluções para o modelo Navier-Stokes com força curvométrica habilitada."
   ]
  },
  {
   "cell_type": "code",
   "execution_count": null,
   "metadata": {},
   "outputs": [],
   "source": [
    "# Importar o solver de Navier-Stokes com curvometria\n",
    "from curvometry import NavierStokesSolver"
   ]
  },
  {
   "cell_type": "code",
   "execution_count": null,
   "metadata": {},
   "outputs": [],
   "source": [
    "# Inicializar o solver com viscosidade, densidade e força curvométrica ativada\n",
    "solver = NavierStokesSolver(\n",
    "    nu=0.1,      # Viscosidade\n",
    "    rho=1.0,     # Densidade\n",
    "    F_curv=True  # Força curvométrica\n",
    ")"
   ]
  },
  {
   "cell_type": "code",
   "execution_count": null,
   "metadata": {},
   "outputs": [],
   "source": [
    "# Resolver as equações até o tempo t=10.0 com uma malha 1024x1024\n",
    "solution = solver.solve(t_end=10.0, resolution=1024)"
   ]
  },
  {
   "cell_type": "code",
   "execution_count": null,
   "metadata": {},
   "outputs": [],
   "source": [
    "# Plotar a vorticidade como resultado da simulação\n",
    "solution.plot_vorticity()"
   ]
  }
 ],
 "metadata": {
  "kernelspec": {
   "display_name": "Python 3",
   "language": "python",
   "name": "python3"
  },
  "language_info": {
   "name": "python",
   "version": ""
  }
 },
 "nbformat": 4,
 "nbformat_minor": 5
}
