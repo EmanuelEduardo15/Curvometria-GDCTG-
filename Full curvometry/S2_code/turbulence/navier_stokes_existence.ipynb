{
"cells": [
{
"cell_type": "markdown",
"metadata": {},
"source": [
"# Simulation with Curvometry applied to the Navier-Stokes Equations\n",
"This notebook demonstrates the existence of solutions for the Navier-Stokes model with curvometric force enabled." ]
},
{
"cell_type": "code",
"execution_count": null,
"metadata": {},
"outputs": [],
"source": [
"# Import Navier-Stokes solver with curvometry\n",
"from curvometry import NavierStokesSolver"
]
},
{
"cell_type": "code",
"execution_count": null,
"metadata": {},
"outputs": [],
"source": [
"# Initialize the solver with viscosity, density and curvometric force enabled\n",
"solver = NavierStokesSolver(\n",
" nu=0.1, # Viscosity\n",
" rho=1.0, # Density\n",
" F_curv=True # Curvometric force\n",
")"
]
},
{
"cell_type": "code",
"execution_count": null,
"metadata": {},
"outputs": [],
"source": [
"# Solve the equations up to time t=10.0 with a 1024x1024 grid\n",
"solution = solver.solve(t_end=10.0, resolution=1024)"
]
},
{
"cell_type": "code",
"execution_count": null,
"metadata": {},
"outputs": [],
"source": [
"# Plot the vorticity as a result of the simulation\n",
"solution.plot_vorticity()"
]
}
],
"metadata": {
"kernelspec": {
"display_name": "Python 3",
"language": "python",
   "name": "python3"
  },
  "language_info": {
   "name": "python",
   "version": ""
  }
 },
 "nbformat": 4,
 "nbformat_minor": 5
}
