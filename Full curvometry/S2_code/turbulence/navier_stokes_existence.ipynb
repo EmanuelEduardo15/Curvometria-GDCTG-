# Code for existence of solutions 
from curvometry import NavierStokesSolver

solver = NavierStokesSolver(  
    nu=0.1,       # Viscosity  
    rho=1.0,      # Density  
    F_curv=True    # Curvometric force  
)  

# Solve in mesh 1024x1024  
solution = solver.solve(t_end=10.0, resolution=1024)  
solution.plot_vorticity()
